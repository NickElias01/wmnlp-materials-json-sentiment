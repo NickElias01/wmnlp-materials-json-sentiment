{
 "cells": [
  {
   "cell_type": "markdown",
   "metadata": {},
   "source": [
    "# Web Mining and Applied NLP (44-620)\n",
    "\n",
    "## Requests, JSON, and NLP\n",
    "\n",
    "### Student Name: Nick Elias\n",
    "\n",
    "Perform the tasks described in the Markdown cells below.  When you have completed the assignment make sure your code cells have all been run (and have output beneath them) and ensure you have committed and pushed ALL of your changes to your assignment repository.\n",
    "\n",
    "Make sure you have [installed spaCy and its pipeline](https://spacy.io/usage#quickstart) and [spaCyTextBlob](https://spacy.io/universe/project/spacy-textblob)\n",
    "\n",
    "Every question that requires you to write code will have a code cell underneath it; you may either write your entire solution in that cell or write it in a python file (`.py`), then import and run the appropriate code to answer the question.\n",
    "\n",
    "This assignment requires that you write additional files (either JSON or pickle files); make sure to submit those files in your repository as well."
   ]
  },
  {
   "cell_type": "markdown",
   "metadata": {},
   "source": [
    "1. The following code accesses the [lyrics.ovh](https://lyricsovh.docs.apiary.io/#reference/0/lyrics-of-a-song/search) public api, searches for the lyrics of a song, and stores it in a dictionary object.  Write the resulting json to a file (either a JSON file or a pickle file; you choose). You will read in the contents of this file for future questions so we do not need to frequently access the API."
   ]
  },
  {
   "cell_type": "markdown",
   "metadata": {},
   "source": [
    "## Question 1"
   ]
  },
  {
   "cell_type": "code",
   "execution_count": 1,
   "metadata": {},
   "outputs": [
    {
     "name": "stdout",
     "output_type": "stream",
     "text": [
      "Lyrics data saved to 'lyrics_data.json'.\n"
     ]
    }
   ],
   "source": [
    "import requests\n",
    "import json\n",
    "\n",
    "# Fetch lyrics from the API\n",
    "response = requests.get(\n",
    "    \"https://api.lyrics.ovh/v1/They Might Be Giants/Birdhouse in your soul\"\n",
    ")\n",
    "\n",
    "# Parse the API response\n",
    "if response.status_code == 200:\n",
    "    result = json.loads(response.text)  # Convert the response to a dictionary\n",
    "\n",
    "    # Save the result to a JSON file\n",
    "    with open(\"lyrics_data.json\", \"w\") as json_file:\n",
    "        json.dump(result, json_file, indent=4)  # Pretty-print JSON\n",
    "\n",
    "    print(\"Lyrics data saved to 'lyrics_data.json'.\")\n",
    "else:\n",
    "    print(f\"Error: {response.status_code} - {response.text}\")"
   ]
  },
  {
   "cell_type": "markdown",
   "metadata": {},
   "source": [
    "2. Read in the contents of your file.  Print the lyrics of the song (not the entire dictionary!) and use spaCyTextBlob to perform sentiment analysis on the lyrics.  Print the polarity score of the sentiment analysis.  Given that the range of the polarity score is `[-1.0,1.0]` which corresponds to how positive or negative the text in question is, do you think the lyrics have a more positive or negative connotaion?  Answer this question in a comment in your code cell."
   ]
  },
  {
   "cell_type": "markdown",
   "metadata": {},
   "source": [
    "## Question 2"
   ]
  },
  {
   "cell_type": "code",
   "execution_count": 2,
   "metadata": {},
   "outputs": [
    {
     "name": "stdout",
     "output_type": "stream",
     "text": [
      "Lyrics of the song:\n",
      "I'm your only friend \n",
      "I'm not your only friend \n",
      "But I'm a little glowing friend \n",
      "But really I'm not actually your friend \n",
      "But I am \n",
      "\n",
      "\n",
      "Blue canary in the outlet by the light switch \n",
      "\n",
      "Who watches over you \n",
      "\n",
      "Make a little birdhouse in your soul \n",
      "\n",
      "Not to put too fine a point on it \n",
      "\n",
      "Say I'm the only bee in your bonnet \n",
      "\n",
      "Make a little birdhouse in your soul \n",
      "\n",
      "\n",
      "\n",
      "I have a secret to tell \n",
      "\n",
      "From my electrical well \n",
      "\n",
      "It's a simple message and I'm leaving out the whistles and bells \n",
      "\n",
      "So the room must listen to me \n",
      "\n",
      "Filibuster vigilantly \n",
      "\n",
      "My name is blue canary one note* spelled l-i-t-e \n",
      "\n",
      "My story's infinite \n",
      "\n",
      "Like the Longines Symphonette it doesn't rest \n",
      "\n",
      "\n",
      "\n",
      "Blue canary in the outlet by the light switch \n",
      "\n",
      "Who watches over you \n",
      "\n",
      "Make a little birdhouse in your soul \n",
      "\n",
      "Not to put too fine a point on it \n",
      "\n",
      "Say I'm the only bee in your bonnet \n",
      "\n",
      "Make a little birdhouse in your soul \n",
      "\n",
      "\n",
      "\n",
      "I'm your only friend \n",
      "\n",
      "I'm not your only friend \n",
      "\n",
      "But I'm a little glowing friend \n",
      "\n",
      "But really I'm not actually your friend \n",
      "\n",
      "But I am \n",
      "\n",
      "\n",
      "\n",
      "There's a picture opposite me \n",
      "\n",
      "Of my primitive ancestry \n",
      "\n",
      "Which stood on rocky shores and kept the beaches shipwreck free \n",
      "\n",
      "Though I respect that a lot \n",
      "\n",
      "I'd be fired if that were my job \n",
      "\n",
      "After killing Jason off and countless screaming Argonauts \n",
      "\n",
      "Bluebird of friendliness \n",
      "\n",
      "Like guardian angels its always near \n",
      "\n",
      "\n",
      "\n",
      "Blue canary in the outlet by the light switch \n",
      "\n",
      "Who watches over you \n",
      "\n",
      "Make a little birdhouse in your soul \n",
      "\n",
      "Not to put too fine a point on it \n",
      "\n",
      "Say I'm the only bee in your bonnet \n",
      "\n",
      "Make a little birdhouse in your soul \n",
      "\n",
      "\n",
      "\n",
      "(and while you're at it \n",
      "\n",
      "Keep the nightlight on inside the \n",
      "\n",
      "Birdhouse in your soul) \n",
      "\n",
      "\n",
      "\n",
      "Not to put too fine a point on it \n",
      "\n",
      "Say I'm the only bee in your bonnet \n",
      "\n",
      "Make a little birdhouse in your soul \n",
      "\n",
      "\n",
      "\n",
      "Blue canary in the outlet by the light switch (and while you're at it) \n",
      "\n",
      "Who watches over you (keep the nightlight on inside the) \n",
      "\n",
      "Make a little birdhouse in your soul (birdhouse in your soul) \n",
      "\n",
      "\n",
      "\n",
      "Not to put too fine a point on it \n",
      "\n",
      "Say I'm the only bee in your bonnet \n",
      "\n",
      "Make a little birdhouse in your soul \n",
      "\n",
      "\n",
      "\n",
      "Blue canary in the outlet by the light switch (and while you're at it) \n",
      "\n",
      "Who watches over you (keep the nightlight on inside the) \n",
      "\n",
      "Make a little birdhouse in your soul (birdhouse in your soul) \n",
      "\n",
      "\n",
      "\n",
      "Not to put too fine a point on it \n",
      "\n",
      "Say I'm the only bee in your bonnet \n",
      "\n",
      "Make a little birdhouse in your soul\n",
      "Polarity Score: 0.04505208333333333\n",
      "The lyrics have a more positive connotation.\n"
     ]
    }
   ],
   "source": [
    "import json\n",
    "import spacy\n",
    "from spacytextblob.spacytextblob import SpacyTextBlob\n",
    "\n",
    "# Load the spaCy model\n",
    "nlp = spacy.load('en_core_web_sm')\n",
    "\n",
    "# Add the SpacyTextBlob extension to the pipeline\n",
    "nlp.add_pipe('spacytextblob', last=True)\n",
    "\n",
    "# Read in the lyrics data from the saved JSON file\n",
    "with open(\"lyrics_data.json\", \"r\") as json_file:\n",
    "    lyrics_data = json.load(json_file)\n",
    "\n",
    "# Extract the lyrics from the dictionary\n",
    "lyrics = lyrics_data[\"lyrics\"]\n",
    "\n",
    "# Print the lyrics\n",
    "print(\"Lyrics of the song:\")\n",
    "print(lyrics)\n",
    "\n",
    "# Perform sentiment analysis using spaCyTextBlob\n",
    "doc = nlp(lyrics)\n",
    "\n",
    "# Get the polarity score (from the TextBlob object in the doc)\n",
    "polarity_score = doc._.blob.polarity\n",
    "\n",
    "# Print the polarity score\n",
    "print(f\"Polarity Score: {polarity_score}\")\n",
    "\n",
    "# Interpretation of the polarity score\n",
    "# Polarity score is between [-1.0, 1.0]\n",
    "# A score closer to 1.0 indicates positive sentiment, while closer to -1.0 indicates negative sentiment.\n",
    "# Given the polarity score, the lyrics seem to have a more positive or negative connotation based on this score.\n",
    "\n",
    "# Comment based on sentiment analysis\n",
    "if polarity_score > 0:\n",
    "    print(\"The lyrics have a more positive connotation.\")\n",
    "else:\n",
    "    print(\"The lyrics have a more negative connotation.\")"
   ]
  },
  {
   "cell_type": "markdown",
   "metadata": {},
   "source": [
    "3. Write a function that takes an artist, song, and filename, accesses the lyrics.ovh api to get the song lyrics, and writes the results to the specified filename.  Test this function by getting the lyrics to any four songs of your choice and storing them in different files."
   ]
  },
  {
   "cell_type": "markdown",
   "metadata": {},
   "source": [
    "## Question 3"
   ]
  },
  {
   "cell_type": "code",
   "execution_count": 3,
   "metadata": {},
   "outputs": [
    {
     "name": "stdout",
     "output_type": "stream",
     "text": [
      "Lyrics for Creep by Radiohead saved to creep_lyrics.json\n",
      "Lyrics for Happy by Pharrell Williams saved to happy_lyrics.json\n",
      "Lyrics for Where'd All the Time Go? by Dr. Dog saved to whered_all_the_time_go_lyrics.json\n",
      "Lyrics for Shake It Off by Taylor Swift saved to shake_it_off_lyrics.json\n",
      "Lyrics for Hey Jude by The Beatles saved to hey_jude_lyrics.json\n"
     ]
    }
   ],
   "source": [
    "import requests\n",
    "import json\n",
    "\n",
    "# Function to fetch song lyrics and save them to a file\n",
    "def get_song_lyrics(artist, song, filename):\n",
    "    # Build the URL to get the lyrics from the lyrics.ovh API\n",
    "    url = f'https://api.lyrics.ovh/v1/{artist}/{song}'\n",
    "    \n",
    "    try:\n",
    "        # Make the GET request to fetch the lyrics\n",
    "        response = requests.get(url)\n",
    "        \n",
    "        # Check if the request was successful\n",
    "        if response.status_code == 200:\n",
    "            # Parse the response JSON to get the lyrics\n",
    "            lyrics_data = response.json()\n",
    "            \n",
    "            # Save the lyrics data to the specified filename\n",
    "            with open(filename, 'w') as json_file:\n",
    "                json.dump(lyrics_data, json_file)\n",
    "            print(f\"Lyrics for {song} by {artist} saved to {filename}\")\n",
    "        else:\n",
    "            print(f\"Error: Unable to fetch lyrics for {song} by {artist}. HTTP status code: {response.status_code}\")\n",
    "    \n",
    "    except Exception as e:\n",
    "        print(f\"Error occurred: {e}\")\n",
    "\n",
    "# Test the function with four songs\n",
    "get_song_lyrics('Radiohead', 'Creep', 'creep_lyrics.json')\n",
    "get_song_lyrics('Pharrell Williams', 'Happy', 'happy_lyrics.json')\n",
    "get_song_lyrics('Dr. Dog', \"Where'd All the Time Go?\", 'whered_all_the_time_go_lyrics.json')\n",
    "get_song_lyrics('Taylor Swift', 'Shake It Off', 'shake_it_off_lyrics.json')\n",
    "get_song_lyrics('The Beatles', 'Hey Jude', 'hey_jude_lyrics.json')"
   ]
  },
  {
   "cell_type": "markdown",
   "metadata": {},
   "source": [
    "4. Write a function that takes the name of a file that contains song lyrics, loads the file, performs sentiment analysis, and returns the polarity score.  Use this function to print the polarity scores (with the name of the song) of the three files you created in question 3.  Does the reported polarity match your understanding of the song's lyrics? Why or why not do you think that might be?  Answer the questions in either a comment in the code cell or a markdown cell under the code cell."
   ]
  },
  {
   "cell_type": "markdown",
   "metadata": {},
   "source": [
    "## Question 4"
   ]
  },
  {
   "cell_type": "code",
   "execution_count": 4,
   "metadata": {},
   "outputs": [
    {
     "name": "stdout",
     "output_type": "stream",
     "text": [
      "Polarity score for creep_lyrics.json: 0.5792857142857142\n",
      "Polarity score for happy_lyrics.json: 0.49032258064516154\n",
      "Polarity score for whered_all_the_time_go_lyrics.json: -0.0845982142857143\n",
      "Polarity score for shake_it_off_lyrics.json: -0.47116745688174266\n",
      "Polarity score for hey_jude_lyrics.json: 0.13194444444444445\n"
     ]
    }
   ],
   "source": [
    "import json\n",
    "import spacy\n",
    "from spacytextblob.spacytextblob import SpacyTextBlob\n",
    "\n",
    "# Load spaCy model and add SpacyTextBlob pipeline\n",
    "nlp = spacy.load('en_core_web_sm')\n",
    "nlp.add_pipe('spacytextblob', last=True)\n",
    "\n",
    "# Function to perform sentiment analysis on song lyrics from a file\n",
    "def analyze_lyrics_sentiment(filename):\n",
    "    # Load the lyrics from the JSON file\n",
    "    with open(filename, 'r') as json_file:\n",
    "        lyrics_data = json.load(json_file)\n",
    "    \n",
    "    # Extract the lyrics\n",
    "    lyrics = lyrics_data.get(\"lyrics\", \"\")\n",
    "    \n",
    "    # Perform sentiment analysis using spaCyTextBlob\n",
    "    doc = nlp(lyrics)\n",
    "    \n",
    "    # Get the polarity score using the 'blob' object provided by SpacyTextBlob\n",
    "    polarity_score = doc._.blob.polarity  # Correct way to access polarity\n",
    "    return polarity_score\n",
    "\n",
    "# File names for the three songs (as created in question 3)\n",
    "song_files = [\n",
    "    'creep_lyrics.json',\n",
    "    'happy_lyrics.json',\n",
    "    'whered_all_the_time_go_lyrics.json',\n",
    "    'shake_it_off_lyrics.json',\n",
    "    'hey_jude_lyrics.json'\n",
    "]\n",
    "\n",
    "# Analyze sentiment for each song and print the result\n",
    "for song_file in song_files:\n",
    "    polarity = analyze_lyrics_sentiment(song_file)\n",
    "    print(f\"Polarity score for {song_file}: {polarity}\")\n",
    "\n",
    "# Commentary: \n",
    "# The polarity score ranges from -1.0 (negative) to 1.0 (positive). \n",
    "# Positive values indicate a positive sentiment, while negative values suggest a negative sentiment.\n",
    "# Based on the lyrics of these songs, we can make an educated guess as to whether they convey more positive or negative emotions.\n"
   ]
  },
  {
   "cell_type": "markdown",
   "metadata": {},
   "source": [
    "### Reflection on polarity scores\n",
    "The polarities do not match up with my expectations. \"Creep\" by Radiohead is a very melancholic song, where the chorus says \"I'm a creep, I'm a weirdo...\", yet it scored higher than any other song, even higher than the song \"Happy\" which is ridiculous. After looking at the lyrics, the phrase \"I wish I was special\" and the word \"special\" were repeated throughout, so that may have been a reason why it scored high. /m Also, \"Shake it Off\" by Taylor Swift scored very low compared to the rest, at -0.47. There may have been some sarcasm throughout the songs that may have confused the Spacy pipeline, so it would be interesting to further research this."
   ]
  }
 ],
 "metadata": {
  "kernelspec": {
   "display_name": ".venv",
   "language": "python",
   "name": "python3"
  },
  "language_info": {
   "codemirror_mode": {
    "name": "ipython",
    "version": 3
   },
   "file_extension": ".py",
   "mimetype": "text/x-python",
   "name": "python",
   "nbconvert_exporter": "python",
   "pygments_lexer": "ipython3",
   "version": "3.11.4"
  }
 },
 "nbformat": 4,
 "nbformat_minor": 4
}
